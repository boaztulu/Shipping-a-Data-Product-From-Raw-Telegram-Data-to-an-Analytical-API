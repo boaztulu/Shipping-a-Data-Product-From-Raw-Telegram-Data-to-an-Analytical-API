{
 "cells": [
  {
   "cell_type": "markdown",
   "id": "983b95d2",
   "metadata": {},
   "source": [
    "# Use an official Python base image\n",
    "FROM python:3.10-slim\n",
    "\n",
    "# Set working directory\n",
    "WORKDIR /app\n",
    "\n",
    "# Install system dependencies (if any, e.g., for psycopg2 or pillow)\n",
    "RUN apt-get update && apt-get install -y --no-install-recommends \\\n",
    "    build-essential libpq-dev\n",
    "\n",
    "# Install Python dependencies\n",
    "COPY requirements.txt .\n",
    "RUN pip install -r requirements.txt\n",
    "\n",
    "# Copy the project code\n",
    "COPY . .\n",
    "\n",
    "# Set environment variables (if any) and entrypoint (for Docker container run)\n",
    "CMD [\"python\", \"orchestration/pipeline_job.py\"]\n"
   ]
  },
  {
   "cell_type": "code",
   "execution_count": null,
   "id": "b58cda29",
   "metadata": {},
   "outputs": [],
   "source": []
  },
  {
   "cell_type": "code",
   "execution_count": 1,
   "id": "7c67c056",
   "metadata": {},
   "outputs": [],
   "source": [
    "from dotenv import load_dotenv\n",
    "import os\n",
    "\n",
    "load_dotenv()  # load .env file\n",
    "DB_USER = os.getenv(\"PG_USER\")\n",
    "DB_PASSWORD = os.getenv(\"PG_PASSWORD\")\n",
    "DB_HOST = os.getenv(\"PG_HOST\", \"localhost\")\n",
    "DB_NAME = os.getenv(\"PG_DATABASE\")\n",
    "# Use these to construct a DB connection string, e.g., SQLAlchemy URL\n",
    "db_url = f\"postgresql://{DB_USER}:{DB_PASSWORD}@{DB_HOST}:5432/{DB_NAME}\"\n"
   ]
  },
  {
   "cell_type": "code",
   "execution_count": null,
   "id": "70184726",
   "metadata": {},
   "outputs": [],
   "source": [
    "select \n",
    "    msg->>'id' as message_id,\n",
    "    msg->>'date' as message_date,\n",
    "    msg->>'channel' as channel_name,\n",
    "    msg->>'text' as message_text,\n",
    "    msg->>'image_path' as image_path\n",
    "from {{ source('raw', 'telegram_messages') }} as t\n",
    "cross join lateral jsonb_array_elements(t.data) as msg;\n"
   ]
  },
  {
   "cell_type": "code",
   "execution_count": null,
   "id": "a08ef4a6",
   "metadata": {},
   "outputs": [],
   "source": [
    "select \n",
    "    distinct channel_name,\n",
    "    md5(channel_name)::uuid as channel_id  -- generating a surrogate key\n",
    "from {{ ref('stg_telegram_messages') }};\n"
   ]
  },
  {
   "cell_type": "code",
   "execution_count": null,
   "id": "5cb92869",
   "metadata": {},
   "outputs": [],
   "source": [
    "select \n",
    "    distinct channel_name,\n",
    "    md5(channel_name)::uuid as channel_id  -- generating a surrogate key\n",
    "from {{ ref('stg_telegram_messages') }};\n"
   ]
  },
  {
   "cell_type": "code",
   "execution_count": null,
   "id": "721d0c43",
   "metadata": {},
   "outputs": [],
   "source": [
    "with dates as (\n",
    "    select generate_series('2025-01-01'::date, CURRENT_DATE, interval '1 day') as date\n",
    ")\n",
    "select \n",
    "    date as date_day,\n",
    "    extract(year from date) as year,\n",
    "    extract(month from date) as month,\n",
    "    extract(day from date) as day,\n",
    "    to_char(date, 'Day') as day_name,\n",
    "    extract(isodow from date) as iso_weekday,\n",
    "    extract(week from date) as week_of_year\n",
    "from dates;\n"
   ]
  },
  {
   "cell_type": "code",
   "execution_count": null,
   "id": "faf77a87",
   "metadata": {},
   "outputs": [],
   "source": [
    "select \n",
    "    m.message_id,\n",
    "    ch.channel_id,\n",
    "    d.date_day as message_date,\n",
    "    m.message_text,\n",
    "    length(m.message_text) as text_length,\n",
    "    m.image_path is not null as has_image\n",
    "from {{ ref('stg_telegram_messages') }} m\n",
    "join {{ ref('dim_channels') }} ch \n",
    "  on m.channel_name = ch.channel_name\n",
    "join {{ ref('dim_dates') }} d\n",
    "  on date_trunc('day', m.message_date::timestamp) = d.date_day;\n"
   ]
  },
  {
   "cell_type": "code",
   "execution_count": null,
   "id": "ffbe8c9f",
   "metadata": {},
   "outputs": [],
   "source": []
  },
  {
   "cell_type": "code",
   "execution_count": null,
   "id": "6fec018e",
   "metadata": {},
   "outputs": [],
   "source": []
  },
  {
   "cell_type": "code",
   "execution_count": null,
   "id": "d6758032",
   "metadata": {},
   "outputs": [],
   "source": []
  },
  {
   "cell_type": "code",
   "execution_count": null,
   "id": "ce29fc36",
   "metadata": {},
   "outputs": [],
   "source": []
  },
  {
   "cell_type": "code",
   "execution_count": null,
   "id": "64df98e3",
   "metadata": {},
   "outputs": [],
   "source": []
  },
  {
   "cell_type": "code",
   "execution_count": null,
   "id": "cf97ca3a",
   "metadata": {},
   "outputs": [],
   "source": []
  },
  {
   "cell_type": "code",
   "execution_count": null,
   "id": "3b6867e3",
   "metadata": {},
   "outputs": [],
   "source": []
  },
  {
   "cell_type": "code",
   "execution_count": null,
   "id": "4396bf06",
   "metadata": {},
   "outputs": [],
   "source": []
  },
  {
   "cell_type": "code",
   "execution_count": null,
   "id": "fdc58d1c",
   "metadata": {},
   "outputs": [],
   "source": []
  }
 ],
 "metadata": {
  "kernelspec": {
   "display_name": "Python 3 (ipykernel)",
   "language": "python",
   "name": "python3"
  },
  "language_info": {
   "codemirror_mode": {
    "name": "ipython",
    "version": 3
   },
   "file_extension": ".py",
   "mimetype": "text/x-python",
   "name": "python",
   "nbconvert_exporter": "python",
   "pygments_lexer": "ipython3",
   "version": "3.11.8"
  }
 },
 "nbformat": 4,
 "nbformat_minor": 5
}
