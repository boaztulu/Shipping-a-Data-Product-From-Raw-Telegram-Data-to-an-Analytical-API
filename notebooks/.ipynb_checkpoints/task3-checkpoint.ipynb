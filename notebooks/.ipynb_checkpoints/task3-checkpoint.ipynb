{
 "cells": [
  {
   "cell_type": "code",
   "execution_count": 25,
   "id": "d309a289",
   "metadata": {},
   "outputs": [
    {
     "name": "stdout",
     "output_type": "stream",
     "text": [
      "DEBUG: raw API_ID='6592689', API_HASH='5d9b4b87ca31121363a5421dafe3071a'\n",
      "✅ Telegram client initialized and connected.\n"
     ]
    },
    {
     "name": "stderr",
     "output_type": "stream",
     "text": [
      "C:\\Users\\btulu\\AppData\\Local\\Temp\\ipykernel_28996\\128971118.py:54: RuntimeWarning: coroutine 'AuthMethods._start' was never awaited\n",
      "  client.start()  # on first run, may prompt for your phone & code\n",
      "RuntimeWarning: Enable tracemalloc to get the object allocation traceback\n"
     ]
    }
   ],
   "source": [
    "from ultralytics import YOLO\n",
    "model = YOLO('yolov8n.pt')  # load pre-trained YOLOv8 (nano model)\n",
    "\n",
    "for image_path in new_images_to_process:\n",
    "    results = model(image_path)  # run object detection\n",
    "    # 'results' is a list of results (one per image, here one image so list of length 1)\n",
    "    for result in results:\n",
    "        for box in result.boxes:\n",
    "            cls_id = int(box.cls)  # class id\n",
    "            conf = float(box.conf)  # confidence score\n",
    "            class_name = result.names[cls_id]\n",
    "            message_id = get_message_id_from_path(image_path)  # your logic to map image to message\n",
    "            # Insert detection into database\n",
    "            cur.execute(\n",
    "                \"\"\"\n",
    "                INSERT INTO fct_image_detections(message_id, detected_object_class, confidence_score)\n",
    "                VALUES (%s, %s, %s)\n",
    "                \"\"\",\n",
    "                (message_id, class_name, conf)\n",
    "            )\n",
    "conn.commit()\n"
   ]
  },
  {
   "cell_type": "code",
   "execution_count": null,
   "id": "b58cda29",
   "metadata": {},
   "outputs": [],
   "source": []
  },
  {
   "cell_type": "markdown",
   "id": "b8f2c52f",
   "metadata": {},
   "source": [
    "Store Enriched Data: We populate the fact table fct_image_detections in our warehouse. This table might have columns: message_id (foreign key to fct_messages), detected_object_class (text, e.g., \"bottle\"), and confidence_score (float). Each detected object in an image produces one row. If an image has no objects detected above the confidence threshold, we might choose to insert nothing or insert a row with detected_object_class = 'None'.\n",
    "Example Outcome: If a Telegram message image shows a pill bottle with pills spilled (like the example image below), YOLOv8 might detect an object of class \"bottle\" in that image (since pill bottles resemble the generic bottle class in COCO). We would then insert a row: (message_id=123, detected_object_class='bottle', confidence_score=0.87) for instance.\n",
    "Figure: Example image from a Telegram channel with a pill bottle and capsules. A YOLOv8 model would likely detect the \"bottle\" with a certain confidence. (Image credit: NIAID, CC BY 2.0) After processing all images, our warehouse is enriched with visual data. We can now answer questions like “Which channels have the most images of pills vs. creams?” by joining fct_image_detections with message and channel info. For example, a simple query could count detections by class per channel. Note: The YOLO enrichment step can be time-consuming, so it might not run on every pipeline execution for all images. We typically run it incrementally for new images, and possibly on a separate worker (because it uses a lot of compute for the model inference). Storing the detections in a table ensures we don't need to re-run object detection for the same image repeatedly."
   ]
  },
  {
   "cell_type": "code",
   "execution_count": null,
   "id": "70184726",
   "metadata": {},
   "outputs": [],
   "source": []
  }
 ],
 "metadata": {
  "kernelspec": {
   "display_name": "Python 3 (ipykernel)",
   "language": "python",
   "name": "python3"
  },
  "language_info": {
   "codemirror_mode": {
    "name": "ipython",
    "version": 3
   },
   "file_extension": ".py",
   "mimetype": "text/x-python",
   "name": "python",
   "nbconvert_exporter": "python",
   "pygments_lexer": "ipython3",
   "version": "3.11.8"
  }
 },
 "nbformat": 4,
 "nbformat_minor": 5
}
